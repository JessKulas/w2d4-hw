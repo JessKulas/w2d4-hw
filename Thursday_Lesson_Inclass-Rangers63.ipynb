{
 "cells": [
  {
   "cell_type": "markdown",
   "metadata": {},
   "source": [
    "# Object-Oriented-Programming (OOP)"
   ]
  },
  {
   "cell_type": "markdown",
   "metadata": {},
   "source": [
    "## Tasks Today:\n",
    "\n",
    "   \n",
    "\n",
    "1) <b>Creating a Class (Initializing/Declaring)</b> <br>\n",
    "2) <b>Using a Class (Instantiating)</b> <br>\n",
    " &nbsp;&nbsp;&nbsp;&nbsp; a) Creating One Instance <br>\n",
    " &nbsp;&nbsp;&nbsp;&nbsp; b) Creating Multiple Instances <br>\n",
    " &nbsp;&nbsp;&nbsp;&nbsp; c) In-Class Exercise #1 - Create a Class 'Car' and instantiate three different makes of cars <br>\n",
    "3) <b>The \\__init\\__() Method</b> <br>\n",
    " &nbsp;&nbsp;&nbsp;&nbsp; a) The 'self' Attribute <br>\n",
    "4) <b>Class Attributes</b> <br>\n",
    " &nbsp;&nbsp;&nbsp;&nbsp; a) Initializing Attributes <br>\n",
    " &nbsp;&nbsp;&nbsp;&nbsp; b) Setting an Attribute Outside of the \\__init\\__() Method <br>\n",
    " &nbsp;&nbsp;&nbsp;&nbsp; c) Setting Defaults for Attributes <br>\n",
    " &nbsp;&nbsp;&nbsp;&nbsp; d) Accessing Class Attributes <br>\n",
    " &nbsp;&nbsp;&nbsp;&nbsp; e) Changing Class Attributes <br>\n",
    " &nbsp;&nbsp;&nbsp;&nbsp; f) In-Class Exercise #2 - Add a color and wheels attribute to your 'Car' class <br>\n",
    "5) <b>Class Methods</b> <br>\n",
    " &nbsp;&nbsp;&nbsp;&nbsp; a) Creating <br>\n",
    " &nbsp;&nbsp;&nbsp;&nbsp; b) Calling <br>\n",
    " &nbsp;&nbsp;&nbsp;&nbsp; c) Modifying an Attribute's Value Through a Method <br>\n",
    " &nbsp;&nbsp;&nbsp;&nbsp; d) Incrementing an Attribute's Value Through a Method <br>\n",
    " &nbsp;&nbsp;&nbsp;&nbsp; e) In-Class Exercise #3 - Add a method that prints the cars color and wheel number, then call them <br>\n",
    "6) <b>Inheritance</b> <br>\n",
    " &nbsp;&nbsp;&nbsp;&nbsp; a) Syntax for Inheriting from a Parent Class <br>\n",
    " &nbsp;&nbsp;&nbsp;&nbsp; b) The \\__init\\__() Method for a Child Class (super()) <br>\n",
    " &nbsp;&nbsp;&nbsp;&nbsp; c) Defining Attributes and Methods for the Child Class <br>\n",
    " &nbsp;&nbsp;&nbsp;&nbsp; d) Method Overriding <br>\n",
    " &nbsp;&nbsp;&nbsp;&nbsp; e) In-Class Exercise #4 - Create a class 'Ford' that inherits from 'Car' class and initialize it as a Blue Ford Explorer with 4 wheels using the super() method <br>\n",
    "7) <b>Classes as Attributes</b> <br>\n",
    "8) <b>Exercises</b> <br>\n",
    " &nbsp;&nbsp;&nbsp;&nbsp; a) Exercise #1 - Turn the shopping cart program from yesterday into an object-oriented program <br>"
   ]
  },
  {
   "cell_type": "markdown",
   "metadata": {},
   "source": [
    "## Creating a Class (Initializing/Declaring)\n",
    "<p>When creating a class, function, or even a variable you are initializing that object. Initializing and Declaring occur at the same time in Python, whereas in lower level languages you have to declare an object before initializing it. This is the first step in the process of using a class.</p>"
   ]
  },
  {
   "cell_type": "code",
   "execution_count": null,
   "metadata": {},
   "outputs": [],
   "source": [
    "class Car:\n",
    "    wheels = 4\n",
    "    color = 'blue'"
   ]
  },
  {
   "cell_type": "code",
   "execution_count": null,
   "metadata": {},
   "outputs": [],
   "source": [
    "crv = Car()"
   ]
  },
  {
   "cell_type": "code",
   "execution_count": null,
   "metadata": {},
   "outputs": [],
   "source": [
    "crv.color = 'green'"
   ]
  },
  {
   "cell_type": "code",
   "execution_count": null,
   "metadata": {},
   "outputs": [],
   "source": [
    "crv.color"
   ]
  },
  {
   "cell_type": "code",
   "execution_count": null,
   "metadata": {},
   "outputs": [],
   "source": [
    "class BlueHondaCrv:\n",
    "    wheels = 4\n",
    "    make = 'Blue'\n",
    "    make = 'Honda'\n",
    "    model = 'CRV'"
   ]
  },
  {
   "cell_type": "code",
   "execution_count": null,
   "metadata": {},
   "outputs": [],
   "source": [
    "explorer = Car()"
   ]
  },
  {
   "cell_type": "code",
   "execution_count": null,
   "metadata": {},
   "outputs": [],
   "source": [
    "explorer.color"
   ]
  },
  {
   "cell_type": "markdown",
   "metadata": {},
   "source": [
    "## Using a Class (Instantiating)\n",
    "<p>The process of creating a class is called <i>Instantiating</i>. Each time you create a variable of that type of class, it is referred to as an <i>Instance</i> of that class. This is the second step in the process of using a class.</p>"
   ]
  },
  {
   "cell_type": "code",
   "execution_count": null,
   "metadata": {},
   "outputs": [],
   "source": []
  },
  {
   "cell_type": "markdown",
   "metadata": {},
   "source": [
    "##### Creating One Instance"
   ]
  },
  {
   "cell_type": "code",
   "execution_count": null,
   "metadata": {},
   "outputs": [],
   "source": [
    "ford = Car()\n",
    "crv = Car()\n",
    "accord = Car()"
   ]
  },
  {
   "cell_type": "markdown",
   "metadata": {},
   "source": [
    "##### Creating Multiple Instances"
   ]
  },
  {
   "cell_type": "code",
   "execution_count": null,
   "metadata": {},
   "outputs": [],
   "source": []
  },
  {
   "cell_type": "markdown",
   "metadata": {},
   "source": [
    "##### In-Class Exercise #1 - Create a Class 'person' and Instantiate three different makes of cars"
   ]
  },
  {
   "cell_type": "code",
   "execution_count": null,
   "metadata": {},
   "outputs": [],
   "source": [
    "class Person:\n",
    "    def __init__(self, name, age, eye_color, hair_color):\n",
    "        self.name = name\n",
    "        self.age = age\n",
    "        self.eye_color = eye_color\n",
    "        self.hair_color = hair_color"
   ]
  },
  {
   "cell_type": "code",
   "execution_count": null,
   "metadata": {},
   "outputs": [],
   "source": [
    "Jil = Person('Jill', 30, 'brown', 'brown')\n",
    "Dracula = Person('Dracula', 500, 'red', 'black')\n",
    "print(Jil.name)\n",
    "\n",
    "class Book():\n",
    "    def __init__(self, title='The Hobbit', pages='300'):\n",
    "        self.title = title\n",
    "        self.pages = pages\n",
    "        \n",
    "my_book = Book()\n",
    "\n",
    "print(my_book)\n",
    "print(my_book.title)\n",
    "print(my_book.pages)\n",
    "\n"
   ]
  },
  {
   "cell_type": "markdown",
   "metadata": {},
   "source": [
    "## The \\__init\\__() Method <br>\n",
    "<p>This method is used in almost every created class, and called only once upon the creation of the class instance. This method will initialize all variables needed for the object.</p>"
   ]
  },
  {
   "cell_type": "code",
   "execution_count": null,
   "metadata": {},
   "outputs": [],
   "source": [
    "class Car:\n",
    "    def __init__(self, year, make, model, color):\n",
    "        self.year = year\n",
    "        self.model = model\n",
    "        self.make = make\n",
    "        self.color = color"
   ]
  },
  {
   "cell_type": "code",
   "execution_count": null,
   "metadata": {},
   "outputs": [],
   "source": [
    "crv = Car(2019, 'Honda', 'CRV', 'green')"
   ]
  },
  {
   "cell_type": "code",
   "execution_count": null,
   "metadata": {},
   "outputs": [],
   "source": []
  },
  {
   "cell_type": "markdown",
   "metadata": {},
   "source": [
    "##### The 'self' Attribute <br>\n",
    "<p>This attribute is required to keep track of specific instance's attributes. Without the self attribute, the program would not know how to reference or keep track of an instance's attributes.</p>"
   ]
  },
  {
   "cell_type": "code",
   "execution_count": null,
   "metadata": {},
   "outputs": [],
   "source": [
    "# see above"
   ]
  },
  {
   "cell_type": "markdown",
   "metadata": {},
   "source": [
    "## Class Attributes <br>\n",
    "<p>While variables are inside of a class, they are referred to as attributes and not variables. When someone says 'attribute' you know they're speaking about a class. Attributes can be initialized through the init method, or outside of it.</p>"
   ]
  },
  {
   "cell_type": "markdown",
   "metadata": {},
   "source": [
    "##### Initializing Attributes"
   ]
  },
  {
   "cell_type": "code",
   "execution_count": null,
   "metadata": {},
   "outputs": [],
   "source": [
    "# see above"
   ]
  },
  {
   "cell_type": "markdown",
   "metadata": {},
   "source": [
    "##### Accessing Class Attributes"
   ]
  },
  {
   "cell_type": "code",
   "execution_count": null,
   "metadata": {
    "scrolled": true
   },
   "outputs": [],
   "source": [
    "# See Above"
   ]
  },
  {
   "cell_type": "markdown",
   "metadata": {},
   "source": [
    "##### Setting Defaults for Attributes"
   ]
  },
  {
   "cell_type": "code",
   "execution_count": null,
   "metadata": {},
   "outputs": [],
   "source": []
  },
  {
   "cell_type": "markdown",
   "metadata": {},
   "source": [
    "##### Changing Class Attributes <br>\n",
    "<p>Keep in mind there are global class attributes and then there are attributes only available to each class instance which won't effect other classes.</p>"
   ]
  },
  {
   "cell_type": "code",
   "execution_count": null,
   "metadata": {},
   "outputs": [],
   "source": []
  },
  {
   "cell_type": "code",
   "execution_count": null,
   "metadata": {},
   "outputs": [],
   "source": []
  },
  {
   "cell_type": "markdown",
   "metadata": {},
   "source": [
    "##### In-Class Exercise #2 - Add a doors and seats attribute to your 'Car' class then print out two different instances with different doors and seats"
   ]
  },
  {
   "cell_type": "code",
   "execution_count": null,
   "metadata": {},
   "outputs": [],
   "source": []
  },
  {
   "cell_type": "markdown",
   "metadata": {},
   "source": [
    "## Methods <br>\n",
    "<p>While inside of a class, functions are referred to as 'methods'. If you hear someone mention methods, they're speaking about classes. Methods are essentially functions, but only callable on the instances of a class.</p>"
   ]
  },
  {
   "cell_type": "markdown",
   "metadata": {},
   "source": [
    "##### Creating"
   ]
  },
  {
   "cell_type": "code",
   "execution_count": null,
   "metadata": {},
   "outputs": [],
   "source": [
    "class Car:\n",
    "    def __init__(self, year, make, model, color, miles):\n",
    "        self.year = year\n",
    "        self.model = model\n",
    "        self.make = make\n",
    "        self.color = color\n",
    "        self.miles = miles\n",
    "        \n",
    "    def paint_car(self, color):\n",
    "        print(f\"Your {self.year} {self.make} {self.model} was painted {color}\")\n",
    "        self.color = color\n",
    "        \n",
    "    def drive_car(self, miles_driven):\n",
    "        print(\"vroom vroom!\")\n",
    "        self.miles += miles_driven"
   ]
  },
  {
   "cell_type": "code",
   "execution_count": null,
   "metadata": {},
   "outputs": [],
   "source": [
    "crv = Car(2018, \"Honda\", \"CRV\", \"blue\", 100000)\n",
    "camry = Car(2019, \"toyota\", \"Camry\", \"gold\", 20000)"
   ]
  },
  {
   "cell_type": "code",
   "execution_count": null,
   "metadata": {},
   "outputs": [],
   "source": [
    "crv.paint_car(\"green\")"
   ]
  },
  {
   "cell_type": "code",
   "execution_count": null,
   "metadata": {},
   "outputs": [],
   "source": [
    "crv.paint_car(\"orange\")"
   ]
  },
  {
   "cell_type": "code",
   "execution_count": null,
   "metadata": {},
   "outputs": [],
   "source": [
    "# Create a class to instantiate a lego collection.\n",
    "# Be as creative as you want, but at a minimum,\n",
    "# you should have a minifigures attribute\n",
    "# and you should have a method to update that attribute.\n",
    "# If you want to use user input, that's fine.\n",
    "\n",
    "\n",
    "class Legos:\n",
    "    def __init__(self, figures, theme, model):\n",
    "        self.figures = figures\n",
    "        self.theme = theme\n",
    "        self.model = model\n",
    "        print(f\"Your new Lego set is a {self.figures} piece {self.theme} {self.model} \")\n",
    "        \n",
    "    def minifigures_lego(self, minifigures):\n",
    "         print(\"STORMTROOPERS\")\n",
    "        \n",
    "         self.figures += minifigures\n",
    "       "
   ]
  },
  {
   "cell_type": "code",
   "execution_count": null,
   "metadata": {},
   "outputs": [],
   "source": []
  },
  {
   "cell_type": "code",
   "execution_count": null,
   "metadata": {},
   "outputs": [],
   "source": [
    "millennium_falcon = Legos(12, 'Star Wars', 'millennium falcon')\n",
    "\n"
   ]
  },
  {
   "cell_type": "markdown",
   "metadata": {},
   "source": [
    "##### Calling"
   ]
  },
  {
   "cell_type": "code",
   "execution_count": null,
   "metadata": {},
   "outputs": [],
   "source": [
    "# See Above"
   ]
  },
  {
   "cell_type": "markdown",
   "metadata": {},
   "source": [
    "##### Modifying an Attribute's Value Through a Method"
   ]
  },
  {
   "cell_type": "code",
   "execution_count": null,
   "metadata": {},
   "outputs": [],
   "source": [
    "crv.paint_car(\"green\")"
   ]
  },
  {
   "cell_type": "markdown",
   "metadata": {},
   "source": [
    "##### Incrementing an Attribute's Value Through a Method"
   ]
  },
  {
   "cell_type": "code",
   "execution_count": null,
   "metadata": {},
   "outputs": [],
   "source": [
    "print(crv.mile)\n",
    "crv.drivecar(500)\n",
    "print(crv.miles)"
   ]
  },
  {
   "cell_type": "markdown",
   "metadata": {},
   "source": [
    "##### In-Class Exercise #3 - Add a method that takes in three parameters of year, doors and seats and prints out a formatted print statement with make, model, year, seats, and doors"
   ]
  },
  {
   "cell_type": "code",
   "execution_count": null,
   "metadata": {},
   "outputs": [],
   "source": [
    "# Create class with 2 paramters inside of the __init__ which are make and model\n",
    "\n",
    "# Inside of the Car class create a method that has 4 parameter in total (self,year,door,seats)\n",
    "\n",
    "# Output: This car is from 2019 and is a Ford Expolorer and has 4 doors and 5 seats\n",
    "\n",
    "class Car()"
   ]
  },
  {
   "cell_type": "markdown",
   "metadata": {},
   "source": [
    "## Inheritance <br>\n",
    "<p>You can create a child-parent relationship between two classes by using inheritance. What this allows you to do is have overriding methods, but also inherit traits from the parent class. Think of it as an actual parent and child, the child will inherit the parent's genes, as will the classes in OOP</p>"
   ]
  },
  {
   "cell_type": "code",
   "execution_count": null,
   "metadata": {},
   "outputs": [],
   "source": [
    "class Dog:\n",
    "    def __init__(self, name, breed, eye_color, hair_color, age, legs=2):\n",
    "        self.name = name\n",
    "        self.breed = breed\n",
    "        self.legs = legs\n",
    "        self.age = age\n",
    "\n",
    "    def have_birthday(self):\n",
    "            self.age += 1\n",
    "        \n",
    "class Human:\n",
    "    def __init__(self, name, eye_color, hair_color, legs=2):\n",
    "        self.name = name\n",
    "        self.lgs = legs\n",
    "        self.eye_color = eye_color\n",
    "        self.hair_color = hair_color\n",
    "        self.age = age\n",
    "        \n",
    "    def have_birthday(self):\n",
    "            self.age += 1"
   ]
  },
  {
   "cell_type": "markdown",
   "metadata": {},
   "source": [
    "##### Syntax for Inheriting from a Parent Class"
   ]
  },
  {
   "cell_type": "code",
   "execution_count": null,
   "metadata": {},
   "outputs": [],
   "source": [
    "class Animal:\n",
    "    def __init__(self, name, eye_color, hair_color, legs=4):\n",
    "        self.name = name\n",
    "        self.lgs = legs\n",
    "        self.eye_color = eye_color\n",
    "        self.hair_color = hair_color\n",
    "        self.age = age\n",
    "        print\n",
    "    def have_birthday(self):\n",
    "            self.age += 1\n",
    "            \n",
    "class Dog(Animal):\n",
    "    def __init__(self, name, breed, eye_color, hair_color, age, legs=2):\n",
    "  \n",
    "        self.breed = breed\n",
    "    def have_birthday += 7\n",
    "      \n",
    "        \n",
    "class Human(Animal):\n",
    "    def __init__(self, name, eye_color, hair_color, legs=2):\n",
    "        print(\"creating Human\")\n",
    "        \n",
    "          "
   ]
  },
  {
   "cell_type": "code",
   "execution_count": null,
   "metadata": {},
   "outputs": [],
   "source": [
    "mike = Human(\"mike\", \"blue\", \"brown\", 32)"
   ]
  },
  {
   "cell_type": "code",
   "execution_count": null,
   "metadata": {},
   "outputs": [],
   "source": [
    "mike.have_birthday()"
   ]
  },
  {
   "cell_type": "markdown",
   "metadata": {},
   "source": [
    "##### The \\__init\\__() Method for a Child Class - super()"
   ]
  },
  {
   "cell_type": "code",
   "execution_count": null,
   "metadata": {
    "scrolled": true
   },
   "outputs": [],
   "source": [
    "#See above"
   ]
  },
  {
   "cell_type": "markdown",
   "metadata": {},
   "source": [
    "##### Defining Attributes and Methods for the Child Class"
   ]
  },
  {
   "cell_type": "code",
   "execution_count": null,
   "metadata": {},
   "outputs": [],
   "source": [
    "# See Above"
   ]
  },
  {
   "cell_type": "markdown",
   "metadata": {},
   "source": [
    "##### Method Overriding"
   ]
  },
  {
   "cell_type": "code",
   "execution_count": null,
   "metadata": {},
   "outputs": [],
   "source": [
    "# See Above"
   ]
  },
  {
   "cell_type": "markdown",
   "metadata": {},
   "source": [
    "## Classes as Attributes <br>\n",
    "<p>Classes can also be used as attributes within another class. This is useful in situations where you need to keep variables locally stored, instead of globally stored.</p>"
   ]
  },
  {
   "cell_type": "code",
   "execution_count": null,
   "metadata": {},
   "outputs": [],
   "source": [
    "class Animal:\n",
    "    def __init__(self, name, eye_color, hair_color, legs=4):\n",
    "        self.name = name\n",
    "        self.lgs = legs\n",
    "        self.eye_color = eye_color\n",
    "        self.hair_color = hair_color\n",
    "        self.age = age\n",
    "        print\n",
    "    def have_birthday(self):\n",
    "            self.age += 1\n",
    "            \n",
    "class Dog(Animal):\n",
    "    def __init__(self, name, breed, eye_color, hair_color, age, owner, legs=2):\n",
    "        self.breed = breed\n",
    "        self.owner = owner\n",
    "        super().__init__(name, eye_color, hair_color, age, legs)\n",
    "        \n",
    "    #METHOD OVERRIDING\n",
    "    def have_birthday += 7\n",
    "      \n",
    "        \n",
    "class Human(Animal):\n",
    "    def __init__(self, name, eye_color, hair_color, legs=2):\n",
    "        super().__init__(name, eye_color, hair_color, age, legs0\n",
    "        print(\"creating Human\")\n",
    "        \n",
    "          "
   ]
  },
  {
   "cell_type": "code",
   "execution_count": null,
   "metadata": {},
   "outputs": [],
   "source": [
    "mike = Human(\"mike\", \"blue\", \"brown\", 32)\n",
    "jEN = hUMAN('jen', 'green', 'blonde', 40)"
   ]
  },
  {
   "cell_type": "code",
   "execution_count": null,
   "metadata": {},
   "outputs": [],
   "source": [
    "from IPython.display import clear_output\n",
    "\n",
    "# step 2\n",
    "address_book = {}\n",
    "\n",
    "# step 1\n",
    "def store_user_info(name, address):\n",
    "    address_book[name] = address\n",
    "    \n",
    "def main():\n",
    "    # step 3\n",
    "    while True:\n",
    "        clear_output()\n",
    "        # step 4\n",
    "        name = input(\"Person's Name: \")\n",
    "        address = input(\"Person's Address: \")\n",
    "        \n",
    "        # step 6\n",
    "        store_user_info(name, address)\n",
    "        \n",
    "        cont = input(\"Would you like to continue (y/n)? \")\n",
    "        \n",
    "        # step 5\n",
    "        if cont == 'n':\n",
    "            # step 5b\n",
    "            break\n",
    "            \n",
    "    # step 5a\n",
    "    print(address_book)\n",
    "    \n",
    "# step 7\n",
    "main()"
   ]
  },
  {
   "cell_type": "code",
   "execution_count": null,
   "metadata": {},
   "outputs": [],
   "source": [
    "class Person:\n",
    "    def __init__(self, name, address, phone_number):\n",
    "        self.name = name\n",
    "        self.address = address\n",
    "        self.phone_number = phone_number\n",
    "    \n",
    "class AddressBook:\n",
    "    def __init__(self):\n",
    "        self.contacts = []\n",
    "    \n",
    "    \n",
    "    def add_contacts(self, name, address, phone_number):\n",
    "        new_person = Person(name, address, phone_number)\n",
    "        self.contacts.append(new_person)\n",
    "        \n",
    "    def print_contacts(self):\n",
    "        print(\"=~\" * 15)\n",
    "        print(\"contacts:\")\n",
    "        \n",
    "        for contact in self.contact:\n",
    "            print(contact.name, contact.address, contact.phone_number)\n",
    "        \n",
    "        print(\"=~\" * 15)\n",
    "    \n",
    "    def run(self):\n",
    "        while True:\n",
    "            name = input(\"Add name: \")\n",
    "            address = input(\"Add Address:\")\n",
    "            phone_number = input(\"add phone_number: \")\n",
    "            \n",
    "            self.add_contact(name, address, phone_number)\n",
    "    \n",
    "            cont = input(\"Would you like to continue (y/n)? \")\n",
    "        \n",
    "            if cont == 'n':\n",
    "            \n",
    "                break\n",
    "            \n",
    "        print(self.contacts)"
   ]
  },
  {
   "cell_type": "code",
   "execution_count": null,
   "metadata": {},
   "outputs": [],
   "source": [
    "my_book = AddressBook()\n",
    "\n",
    "my_book.add_contact(\"Lucas\", \"123 Main St\", \"5555555555\")\n",
    "my_book.add_contact(\"Chris\", \"555 Ocean Ave\", \"5555555556\")\n",
    "my_book.add_contact(\"Joel\", \"643 Main St\", \"5555555557\")"
   ]
  },
  {
   "cell_type": "code",
   "execution_count": null,
   "metadata": {},
   "outputs": [],
   "source": [
    "my_book.contacts"
   ]
  },
  {
   "cell_type": "code",
   "execution_count": null,
   "metadata": {},
   "outputs": [],
   "source": [
    "class Person:\n",
    "    def __init__(self, name, address, phone_number):\n",
    "        self.name = name\n",
    "        self.address = address\n",
    "        self.phone_number = phone_number\n",
    "\n",
    "class AddressBook:\n",
    "    def __init__(self):\n",
    "        self.contacts = []\n",
    "        \n",
    "    def add_contact(self, name, address, phone_number):\n",
    "        new_person = Person(name, address, phone_number)\n",
    "        self.contacts.append(new_person)\n",
    "        \n",
    "    def print_contacts(self):\n",
    "        print(\"=~\" * 15)\n",
    "        print(\"CONTACTS:\")\n",
    "        \n",
    "        for contact in self.contacts:\n",
    "            print(contact.name, contact.address, contact.phone_number)\n",
    "        \n",
    "        print(\"=~\" * 15)\n",
    "        \n",
    "    def run(self):\n",
    "        while True:\n",
    "            name = input(\"Add name: \")\n",
    "            address = input(\"Add address: \")\n",
    "            phone_number = input(\"Add phone_number: \")\n",
    "            \n",
    "            self.add_contact(name, address, phone_number)\n",
    "            \n",
    "            cont = input(\"Would you like to continue (y/n)? \")\n",
    "        \n",
    "            if cont == 'n':\n",
    "                break\n",
    "                \n",
    "        self.print_contacts()"
   ]
  },
  {
   "cell_type": "code",
   "execution_count": null,
   "metadata": {},
   "outputs": [],
   "source": [
    "my_book = AddressBook()\n",
    "my_book.run()"
   ]
  },
  {
   "cell_type": "code",
   "execution_count": null,
   "metadata": {},
   "outputs": [],
   "source": [
    "my_book = AddressBook()\n",
    "\n",
    "my_book.add_contact(\"Lucas\", \"123 Main St\", \"5555555555\")\n",
    "my_book.add_contact(\"Christopher\", \"555 Ocean Ave\", \"5555555556\")\n",
    "my_book.add_contact(\"Joel\", \"643 Main St\", \"5555555557\""
   ]
  },
  {
   "cell_type": "markdown",
   "metadata": {},
   "source": [
    "# Exercises"
   ]
  },
  {
   "cell_type": "markdown",
   "metadata": {},
   "source": [
    "### Exercise 1 - Turn the shopping cart program from yesterday into an object-oriented program\n",
    "\n",
    "The comments in the cell below are there as a guide for thinking about the problem. However, if you feel a different way is best for you and your own thought process, please do what feels best for you by all means."
   ]
  },
  {
   "cell_type": "code",
   "execution_count": 4,
   "metadata": {},
   "outputs": [],
   "source": [
    "# Create a class called cart that retains items and has methods to add, remove, and show\n",
    "\n",
    "class Books():\n",
    "    def __init__(self, title, author, year_released, series,  movie):\n",
    "        self.title = title\n",
    "        self.author = author\n",
    "        self.series = series\n",
    "        self.year_released = year_released\n",
    "        self.movie = movie\n",
    "\n",
    "class BookList:\n",
    "    def __init__(self):\n",
    "        self.books = []\n",
    "        \n",
    "    #def add_book(self, title, author, year_released, series,  movie):\n",
    "        #new_book = Books(title, author, year_released, series,  movie)\n",
    "        #self.book.append(new_book)\n",
    "        \n",
    "    def print_books(self):\n",
    "        print(\"=~\" * 15)\n",
    "        print(\"BOOK LIST:\")\n",
    "        \n",
    "        for books in self.books:\n",
    "            print(books.self, books.title, books.author, books.year_released, books.series,  books.movie)\n",
    "        \n",
    "        print(\"=~\" * 15)\n",
    "        \n",
    "    def run(self):\n",
    "        while True:\n",
    "            title = input(\"Add a book: \")\n",
    "            author = input(\"Who is the author?: \")\n",
    "            year_released = input(\"What year was it published?: \")\n",
    "            series = input(\"Is it a series?(yes/no): \")\n",
    "            movie = input(\"Was it made into a movie?: \")\n",
    "            \n",
    "            self.add_books(title, author, year_released, series,  movie)\n",
    "            \n",
    "            cont = input(\"Would you like to continue (yes/no)? \")\n",
    "                    \n",
    "            cont = input(\"would you like to 'see list', 'add book', or 'remove book'? \")\n",
    "    \n",
    "            if cont == 'see':\n",
    "                print(self.books)\n",
    "                break\n",
    "            if cont == 'delete':\n",
    "                item = input(\"which book would you like to remove? \")\n",
    "                del self.books[item]\n",
    "                break\n",
    "            if cont == 'n':\n",
    "                break\n",
    "                \n",
    "        self.print_books()\n",
    "    "
   ]
  },
  {
   "cell_type": "code",
   "execution_count": null,
   "metadata": {},
   "outputs": [],
   "source": [
    "my_books = BookList()\n",
    "my_books.run()"
   ]
  },
  {
   "cell_type": "markdown",
   "metadata": {},
   "source": []
  },
  {
   "cell_type": "code",
   "execution_count": null,
   "metadata": {},
   "outputs": [],
   "source": []
  },
  {
   "cell_type": "code",
   "execution_count": null,
   "metadata": {},
   "outputs": [],
   "source": []
  },
  {
   "cell_type": "code",
   "execution_count": null,
   "metadata": {},
   "outputs": [],
   "source": []
  }
 ],
 "metadata": {
  "kernelspec": {
   "display_name": "Python 3 (ipykernel)",
   "language": "python",
   "name": "python3"
  },
  "language_info": {
   "codemirror_mode": {
    "name": "ipython",
    "version": 3
   },
   "file_extension": ".py",
   "mimetype": "text/x-python",
   "name": "python",
   "nbconvert_exporter": "python",
   "pygments_lexer": "ipython3",
   "version": "3.9.12"
  }
 },
 "nbformat": 4,
 "nbformat_minor": 2
}
